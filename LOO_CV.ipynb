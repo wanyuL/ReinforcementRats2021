{
 "cells": [
  {
   "cell_type": "code",
   "execution_count": null,
   "metadata": {},
   "outputs": [],
   "source": [
    "X=classifier_latvd\n",
    "y=val_resp\n",
    "\n",
    "predict=[]\n",
    "predictProb=[]\n",
    "counter=0\n",
    "idxCounter=0\n",
    "\n",
    "for _ in range(classifier_latvd.shape[0]):\n",
    "  \n",
    "  idx=np.arange(0,classifier_latvd.shape[0])\n",
    "  #np.random.shuffle(idx)\n",
    "  idxThisTrial=np.delete(idx, idxCounter)\n",
    "\n",
    "  clf = LogisticRegression(random_state=0, max_iter=1000).fit(X[idxThisTrial], y[idxThisTrial])\n",
    "  predictTmp=clf.predict(X[idxCounter, :].reshape(1, -1))\n",
    "  predictProbTmp=clf.predict_proba(X[idxCounter, :].reshape(1, -1))\n",
    "\n",
    "\n",
    "  if predictTmp==y[idxCounter]:\n",
    "    counter+=1\n",
    "    predict=np.append(predict, predictTmp)\n",
    "    predictProb=np.append(predictProb, predictProbTmp)\n",
    "  \n",
    "  idxCounter+=1"
   ]
  }
 ],
 "metadata": {
  "kernelspec": {
   "display_name": "Python 3",
   "language": "python",
   "name": "python3"
  },
  "language_info": {
   "codemirror_mode": {
    "name": "ipython",
    "version": 3
   },
   "file_extension": ".py",
   "mimetype": "text/x-python",
   "name": "python",
   "nbconvert_exporter": "python",
   "pygments_lexer": "ipython3",
   "version": "3.8.3"
  }
 },
 "nbformat": 4,
 "nbformat_minor": 4
}
